{
 "cells": [
  {
   "cell_type": "markdown",
   "metadata": {},
   "source": [
    "## Example jupyter notebook"
   ]
  },
  {
   "cell_type": "code",
   "execution_count": null,
   "metadata": {},
   "outputs": [],
   "source": [
    "#open_input = open('pattern_count_input.txt')\n",
    "#text = open_input.read().rstrip().replace(\" \", \"\")\n",
    "string1 = \"AAAGGCTTTCTGTCCCAGGCCGCATCGCGAATATCGGAACCCCACATGGCCC\"\n",
    "string2 = \"AGCATTATTGATTGTCCGTTTCTGCAGATAGCTTGATCAGCCATGCAACGGG\"\n",
    "\n",
    "from timeit import timeit\n",
    "def hamming_distance (string1, string2):\n",
    "    hamming_distance = 0\n",
    "    for (nucleotide1, nucleotide2) in zip(string1, string2):\n",
    "        if nucleotide1 != nucleotide2:\n",
    "            hamming_distance += 1\n",
    "    return(hamming_distance)\n",
    "hamming_distance(string1, string2)"
   ]
  },
  {
   "cell_type": "code",
   "execution_count": null,
   "metadata": {},
   "outputs": [],
   "source": [
    ""
   ]
  },
  {
   "cell_type": "code",
   "execution_count": null,
   "metadata": {},
   "outputs": [],
   "source": [
    ""
   ]
  }
 ],
 "metadata": {},
 "nbformat": 4,
 "nbformat_minor": 0
}