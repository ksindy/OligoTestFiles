{
 "cells": [
  {
   "cell_type": "markdown",
   "metadata": {},
   "source": [
    "## Example jupyter notebook"
   ]
  },
  {
   "cell_type": "markdown",
   "metadata": {},
   "source": [
    "\"mismatch_counter\" is a function that counts the number of mismatches between two sequences.\n",
    "Click on the first cell and push the play button above, it will run the code. "
   ]
  },
  {
   "cell_type": "code",
   "execution_count": 1,
   "metadata": {
    "collapsed": false
   },
   "outputs": [
    {
     "data": {
      "text/plain": [
       "39"
      ]
     },
     "execution_count": 1,
     "metadata": {},
     "output_type": "execute_result"
    }
   ],
   "source": [
    "text1 = \"AAAGGCTTTCTGTCCCAGGCCGCATCGCGAATATCGGAACCCCACATGGCCG\"\n",
    "text2 = \"AGCATTATTGATTGTCCGTTTCTGCAGATAGCTTGATCAGCCATGCAACGGG\"\n",
    "\n",
    "def mismatch_counter (string1, string2):\n",
    "    mismatch_counter = 0\n",
    "    for (nucleotide1, nucleotide2) in zip(string1, string2):\n",
    "        if nucleotide1 != nucleotide2: #\"!=\" means \"not equal\" \n",
    "            mismatch_counter += 1\n",
    "    return(mismatch_counter)\n",
    "\n",
    "mismatch_counter(text1, text2)\n"
   ]
  },
  {
   "cell_type": "markdown",
   "metadata": {},
   "source": [
    "You can edit the strings called \"text1\" and \"text2\" and push play again to see the result. "
   ]
  },
  {
   "cell_type": "markdown",
   "metadata": {},
   "source": [
    "Or you can add files to the control panel and read them into a cell in order to run the \"mismatch_counter\" function on them. "
   ]
  },
  {
   "cell_type": "code",
   "execution_count": 3,
   "metadata": {
    "collapsed": false
   },
   "outputs": [
    {
     "data": {
      "text/plain": [
       "797"
      ]
     },
     "execution_count": 3,
     "metadata": {},
     "output_type": "execute_result"
    }
   ],
   "source": [
    "open_input1 = open('string1.txt')\n",
    "open_input2 = open('string2.txt')\n",
    "text3 = open_input1.read().rstrip().replace(\" \", \"\")\n",
    "text4 = open_input2.read().rstrip().replace(\" \", \"\")\n",
    "\n",
    "mismatch_counter(text3, text4)"
   ]
  },
  {
   "cell_type": "markdown",
   "metadata": {
    "collapsed": true
   },
   "source": []
  }
 ],
 "metadata": {
  "kernelspec": {
   "display_name": "Python 3",
   "language": "python",
   "name": "python3"
  },
  "language_info": {
   "codemirror_mode": {
    "name": "ipython",
    "version": 3
   },
   "file_extension": ".py",
   "mimetype": "text/x-python",
   "name": "python",
   "nbconvert_exporter": "python",
   "pygments_lexer": "ipython3",
   "version": "3.5.1"
  }
 },
 "nbformat": 4,
 "nbformat_minor": 0
}
