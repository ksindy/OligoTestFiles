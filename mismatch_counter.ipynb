{
 "cells": [
  {
   "cell_type": "markdown",
   "metadata": {},
   "source": [
    "## Example jupyter notebook"
   ]
  },
  {
   "cell_type": "markdown",
   "metadata": {},
   "source": [
    "\"mismatch_counter\" is a function that counts the number of mismatches between two sequences. "
   ]
  },
  {
   "cell_type": "code",
   "execution_count": 34,
   "metadata": {
    "collapsed": false
   },
   "outputs": [],
   "source": [
    "text1 = \"AAAGGCTTTCTGTCCCAGGCCGCATCGCGAATATCGGAACCCCACATGGCCG\"\n",
    "text2 = \"AGCATTATTGATTGTCCGTTTCTGCAGATAGCTTGATCAGCCATGCAACGGG\"\n",
    "\n",
    "def mismatch_counter (string1, string2):\n",
    "    mismatch_counter = 0\n",
    "    for (nucleotide1, nucleotide2) in zip(string1, string2):\n",
    "        if nucleotide1 != nucleotide2: #\"!=\" means \"not equal\" \n",
    "            mismatch_counter += 1\n",
    "    return(mismatch_counter)\n"
   ]
  },
  {
   "cell_type": "markdown",
   "metadata": {},
   "source": [
    "Use the name of the function followed by the sequences in parenthesis and push the play button above to run."
   ]
  },
  {
   "cell_type": "code",
   "execution_count": 35,
   "metadata": {
    "collapsed": false
   },
   "outputs": [
    {
     "data": {
      "text/plain": [
       "39"
      ]
     },
     "execution_count": 35,
     "metadata": {},
     "output_type": "execute_result"
    }
   ],
   "source": [
    "mismatch_counter(text1, text2)"
   ]
  },
  {
   "cell_type": "markdown",
   "metadata": {},
   "source": [
    "You can add files and read them into a cell in order to run the \"mismatch_counter\" function on them. Or you can cut and paste your sequence into the files named 'string1.txt' and 'string2.txt"
   ]
  },
  {
   "cell_type": "code",
   "execution_count": 41,
   "metadata": {
    "collapsed": true
   },
   "outputs": [],
   "source": [
    "open_input1 = open('string1.txt')\n",
    "open_input2 = open('string2.txt')\n",
    "text3 = open_input1.read().rstrip().replace(\" \", \"\")\n",
    "text4 = open_input2.read().rstrip().replace(\" \", \"\")"
   ]
  },
  {
   "cell_type": "code",
   "execution_count": 40,
   "metadata": {
    "collapsed": false
   },
   "outputs": [
    {
     "data": {
      "text/plain": [
       "797"
      ]
     },
     "execution_count": 40,
     "metadata": {},
     "output_type": "execute_result"
    }
   ],
   "source": [
    "mismatch_counter(text3, text4)"
   ]
  },
  {
   "cell_type": "code",
   "execution_count": null,
   "metadata": {
    "collapsed": true
   },
   "outputs": [],
   "source": []
  }
 ],
 "metadata": {
  "kernelspec": {
   "display_name": "Python 3",
   "language": "python",
   "name": "python3"
  },
  "language_info": {
   "codemirror_mode": {
    "name": "ipython",
    "version": 3
   },
   "file_extension": ".py",
   "mimetype": "text/x-python",
   "name": "python",
   "nbconvert_exporter": "python",
   "pygments_lexer": "ipython3",
   "version": "3.5.1"
  }
 },
 "nbformat": 4,
 "nbformat_minor": 0
}
