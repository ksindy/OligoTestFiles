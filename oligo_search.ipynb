{
 "cells": [
  {
   "cell_type": "markdown",
   "metadata": {},
   "source": [
    "# Oligo Search Website\n",
    "\n",
    "**Here are the functions I used for the search feature in my website.**"
   ]
  },
  {
   "cell_type": "code",
   "execution_count": 1,
   "metadata": {},
   "outputs": [
    {
     "name": "stdout",
     "output_type": "stream",
     "text": [
      "GCGGGCGTGGAGATGGCTTCTAACTTTACTCATGGCTTCTAACTTTACTCAGTTCGTTAGTTCGTTAAGCGAGATTCATTCAAGCCATGGCTTCTAACTTTACTCAGTTCGTTGGGAGGCGATGGACGCCAAACACGACGCCGGCGGGCGTGATTCGAGCATGGCTTCTAACTTTACTCAGTTCGTTGGCGGATTCGAGATTCCGGGCGTGCGGGCGTGAAGCGCG\n"
     ]
    }
   ],
   "source": [
    "import xlrd\n",
    "oligo_sheet = (xlrd.open_workbook(\"kh_oligos.xlsx\")).sheet_by_index(0)\n",
    "reference = (open(\"reference.txt\")).read()\n",
    "\n",
    "print (reference)"
   ]
  },
  {
   "cell_type": "code",
   "execution_count": 2,
   "metadata": {},
   "outputs": [
    {
     "data": {
      "text/plain": [
       "['MS2-F-Pbase-cPCR']"
      ]
     },
     "execution_count": 2,
     "metadata": {},
     "output_type": "execute_result"
    }
   ],
   "source": [
    "def reverse_complement(text):\n",
    "    text = text[::-1].upper().replace(' ','')\n",
    "    reverse_complement_text = text.translate(str.maketrans('ACGT','TGCA'))\n",
    "    return reverse_complement_text\n",
    "\n",
    "\n",
    "def oligo_search(reference, oligo_sheet):\n",
    "    oligo_column = 2\n",
    "    reference = reference.upper().replace(' ','')\n",
    "    rc_reference = reverse_complement(reference)\n",
    "    matching_oligos = []\n",
    "\n",
    "    for i in range(oligo_sheet.nrows):\n",
    "        oligo = (oligo_sheet.cell_value(\n",
    "                    rowx=i,\n",
    "                    colx=oligo_column)\n",
    "                    .upper().replace(\" \",\"\"))\n",
    "        if i < oligo_sheet.nrows and oligo != \"\" and ((oligo in reference) or (oligo in rc_reference)):\n",
    "            matching_oligos.append(oligo_sheet.cell_value(rowx=i, colx=oligo_column-1))\n",
    "\n",
    "    if not matching_oligos:\n",
    "        return(\"No oligos match the reference.\")\n",
    "    else:\n",
    "        return(matching_oligos)\n",
    "\n",
    "\n",
    "oligo_search(reference, oligo_sheet)"
   ]
  },
  {
   "cell_type": "markdown",
   "metadata": {},
   "source": [
    "# In order to determine the best way to find the reverse complement and search for a matching oligo, I compared several functions.\n",
    "## Reverse compliment:\n",
    "\n",
    "**Python's maketrans() method is the quickest and most readable way to obtain the reverse complement out of the five ways I tested. Below, the function is called \"reverse_complement_four\".**"
   ]
  },
  {
   "cell_type": "code",
   "execution_count": 3,
   "metadata": {},
   "outputs": [
    {
     "name": "stdout",
     "output_type": "stream",
     "text": [
      "ATGGCTTCTAACTTTACTCAGTTCGTT\n"
     ]
    }
   ],
   "source": [
    "from timeit import timeit\n",
    "from Bio.Seq import Seq\n",
    "\n",
    "oligo = (oligo_sheet.cell_value(\n",
    "                    rowx=6,\n",
    "                    colx=2)\n",
    "                    .upper().replace(\" \",\"\"))\n",
    "print (oligo)"
   ]
  },
  {
   "cell_type": "code",
   "execution_count": 4,
   "metadata": {},
   "outputs": [
    {
     "data": {
      "text/plain": [
       "'AACGAACTGAGTAAAGTTAGAAGCCAT'"
      ]
     },
     "execution_count": 4,
     "metadata": {},
     "output_type": "execute_result"
    }
   ],
   "source": [
    "def reverse_complement_one(text):\n",
    "    text = text.upper().replace(' ','')\n",
    "    dict_basepair = {'G':'C', 'C':'G', 'A':'T', 'T':'A'}\n",
    "    reverse_complement_string = ''\n",
    "    for i, nucleotide in enumerate(text):\n",
    "        basepair = (text[((i+1)*-1)+len(text)])\n",
    "        if dict_basepair.get(basepair):\n",
    "            reverse_complement_string += dict_basepair.get(basepair)\n",
    "    return(reverse_complement_string)\n",
    "reverse_complement_one(oligo)"
   ]
  },
  {
   "cell_type": "code",
   "execution_count": 5,
   "metadata": {},
   "outputs": [
    {
     "data": {
      "text/plain": [
       "'AACGAACTGAGTAAAGTTAGAAGCCAT'"
      ]
     },
     "execution_count": 5,
     "metadata": {},
     "output_type": "execute_result"
    }
   ],
   "source": [
    "def reverse_complement_two(text):\n",
    "    text = text.upper().replace(' ','')\n",
    "    dict_basepair = {'G':'C', 'C':'G', 'A':'T', 'T':'A'}\n",
    "    reverse = (text[::-1])\n",
    "    reverse_complement_string = ''\n",
    "    for i in reverse:\n",
    "        if dict_basepair.get(i):\n",
    "            reverse_complement_string += dict_basepair.get(i)\n",
    "    return(reverse_complement_string)\n",
    "reverse_complement_two(oligo)"
   ]
  },
  {
   "cell_type": "code",
   "execution_count": 9,
   "metadata": {},
   "outputs": [
    {
     "data": {
      "text/plain": [
       "'AACGAACTGAGTAAAGTTAGAAGCCAT'"
      ]
     },
     "execution_count": 9,
     "metadata": {},
     "output_type": "execute_result"
    }
   ],
   "source": [
    "def reverse_complement_three(text):\n",
    "    text = text.upper().replace(' ','')\n",
    "    dict_basepair = {'G':'C', 'C':'G', 'A':'T', 'T':'A'}\n",
    "    reverse_complement_string = ''\n",
    "    for nucleotide in reversed(text):\n",
    "        if dict_basepair.get(nucleotide):\n",
    "            reverse_complement_string += dict_basepair.get(nucleotide)\n",
    "    return (reverse_complement_string)\n",
    "reverse_complement_three(oligo)"
   ]
  },
  {
   "cell_type": "code",
   "execution_count": 10,
   "metadata": {},
   "outputs": [
    {
     "data": {
      "text/plain": [
       "'AACGAACTGAGTAAAGTTAGAAGCCAT'"
      ]
     },
     "execution_count": 10,
     "metadata": {},
     "output_type": "execute_result"
    }
   ],
   "source": [
    "def reverse_complement_four(text):\n",
    "    text = text[::-1].upper().replace(' ','')\n",
    "    reverse_complement_text = text.translate(str.maketrans('ACGT','TGCA'))\n",
    "    return reverse_complement_text\n",
    "reverse_complement_four(oligo)"
   ]
  },
  {
   "cell_type": "code",
   "execution_count": 11,
   "metadata": {},
   "outputs": [
    {
     "data": {
      "text/plain": [
       "Seq('AACGAACTGAGTAAAGTTAGAAGCCAT', Alphabet())"
      ]
     },
     "execution_count": 11,
     "metadata": {},
     "output_type": "execute_result"
    }
   ],
   "source": [
    "def reverse_complement_biopython(text):\n",
    "    sequence = Seq(text)\n",
    "    reverse_complement_sequence = Seq.reverse_complement(sequence)\n",
    "    return(reverse_complement_sequence)\n",
    "reverse_complement_biopython(oligo)"
   ]
  },
  {
   "cell_type": "markdown",
   "metadata": {},
   "source": [
    "## Timeit:\n",
    "\n",
    "**I used timeit to compare the speed of each function after 100,000 completions.**"
   ]
  },
  {
   "cell_type": "code",
   "execution_count": 12,
   "metadata": {},
   "outputs": [
    {
     "name": "stdout",
     "output_type": "stream",
     "text": [
      "reverse_complement_one:2.547016844999689\n",
      "reverse_complement_two:1.6029819020000105\n",
      "reverse_complement_three:1.4778021470001477\n",
      "reverse_complement_four:0.40757576699979836\n",
      "reverse_complement_biopython:1.5530386730001737\n"
     ]
    }
   ],
   "source": [
    "print (\"reverse_complement_one:{}\".format(timeit(\n",
    "                                    \"reverse_complement_one(text)\",\n",
    "                                    \"from __main__ import reverse_complement_one;\"\n",
    "                                    \"text='A@GG GTTAG--TGACCAGCT! AG'\", number =100000)))\n",
    "print (\"reverse_complement_two:{}\".format(timeit(\n",
    "                                    \"reverse_complement_two(text)\",\n",
    "                                    \"from __main__ import reverse_complement_two;\"\n",
    "                                    \"text = 'A@GG GTTAG--TGACCAGCT! AG'\", number =100000)))\n",
    "print (\"reverse_complement_three:{}\".format(timeit(\n",
    "                                    \"reverse_complement_three(text)\",\n",
    "                                    \"from __main__ import reverse_complement_three;\"\n",
    "                                    \"text = 'A@GG GTTAG--TGACCAGCT! AG'\", number =100000)))\n",
    "print (\"reverse_complement_four:{}\".format(timeit(\n",
    "                                    \"reverse_complement_four(text)\",\n",
    "                                    \"from __main__ import reverse_complement_four;\"\n",
    "                                    \"text = 'A@GG GTTAG--TGACCAGCT! AG'\", number =100000)))\n",
    "print (\"reverse_complement_biopython:{}\".format(timeit(\n",
    "                                    \"reverse_complement_biopython(text)\",\n",
    "                                    \"from __main__ import reverse_complement_biopython;\"\n",
    "                                    \"text = 'A@GG GTTAG--TGACCAGCT! AG'\", number =100000)))"
   ]
  },
  {
   "cell_type": "markdown",
   "metadata": {},
   "source": [
    "## Oligo Search:\n",
    "\n",
    "**I chose to use \"if pattern in text: do something\" because it's quick and best suited for my website. Below, it is called \"pattern_search_three\".**"
   ]
  },
  {
   "cell_type": "code",
   "execution_count": 13,
   "metadata": {},
   "outputs": [
    {
     "data": {
      "text/plain": [
       "3"
      ]
     },
     "execution_count": 13,
     "metadata": {},
     "output_type": "execute_result"
    }
   ],
   "source": [
    "def pattern_search_one(text, pattern):\n",
    "    count = 0\n",
    "    for i, nucleotide in enumerate(text):\n",
    "        if text[i:i+len(pattern)] == pattern:\n",
    "            count += 1\n",
    "    return (count)\n",
    "pattern_search_one(reference, oligo)"
   ]
  },
  {
   "cell_type": "code",
   "execution_count": 14,
   "metadata": {},
   "outputs": [
    {
     "data": {
      "text/plain": [
       "3"
      ]
     },
     "execution_count": 14,
     "metadata": {},
     "output_type": "execute_result"
    }
   ],
   "source": [
    "def pattern_search_two(text, pattern):\n",
    "    return (text.count(pattern))\n",
    "pattern_search_one(reference, oligo)"
   ]
  },
  {
   "cell_type": "code",
   "execution_count": 15,
   "metadata": {},
   "outputs": [
    {
     "data": {
      "text/plain": [
       "'Pattern found in text.'"
      ]
     },
     "execution_count": 15,
     "metadata": {},
     "output_type": "execute_result"
    }
   ],
   "source": [
    "def pattern_search_three(text, pattern):\n",
    "    match = []\n",
    "    if pattern in text:\n",
    "        match.append(oligo)\n",
    "    if not match:\n",
    "        return (\"No pattern found in text.\")\n",
    "    else:\n",
    "        return (\"Pattern found in text.\")\n",
    "pattern_search_three(reference, oligo)"
   ]
  },
  {
   "cell_type": "code",
   "execution_count": 16,
   "metadata": {},
   "outputs": [
    {
     "data": {
      "text/plain": [
       "'Pattern found in text.'"
      ]
     },
     "execution_count": 16,
     "metadata": {},
     "output_type": "execute_result"
    }
   ],
   "source": [
    "def pattern_search_four(text, pattern):\n",
    "    match = text.find(pattern)\n",
    "    if match > -1:\n",
    "        return (\"Pattern found in text.\")\n",
    "    else:\n",
    "        return (\"Pattern not found in text.\")\n",
    "pattern_search_four(reference, oligo)"
   ]
  },
  {
   "cell_type": "code",
   "execution_count": 17,
   "metadata": {},
   "outputs": [
    {
     "name": "stdout",
     "output_type": "stream",
     "text": [
      "pattern_search_one:4.815226697000071\n",
      "pattern_search_two:0.09268529500013756\n",
      "pattern_search_three:0.10271668499990483\n",
      "pattern_search_four:0.12597850700012714\n"
     ]
    }
   ],
   "source": [
    "print (\"pattern_search_one:{}\".format(timeit(\n",
    "                                    \"pattern_search_one(text, pattern)\",\n",
    "                                    \"from __main__ import pattern_search_one;\"\n",
    "                                    \"text='TGATTCCGGCGGGCGTGGAGAAGCGAGATTCATTCAAGCCGGGAGGCGTGGCGTGGCGTGGCGTGCGGATTCAAGCCGGCGGG';\"\n",
    "                                    \"pattern='TTCCGG' \", number =100000)))\n",
    "\n",
    "print (\"pattern_search_two:{}\".format(timeit(\n",
    "                                    \"pattern_search_two(text, pattern)\",\n",
    "                                    \"from __main__ import pattern_search_two;\"\n",
    "                                    \"text='TGATTCCGGCGGGCGTGGAGAAGCGAGATTCATTCAAGCCGGGAGGCGTGGCGTGGCGTGGCGTGCGGATTCAAGCCGGCGGG';\"\n",
    "                                    \"pattern='TTCCGG' \", number =100000)))\n",
    "\n",
    "print (\"pattern_search_three:{}\".format(timeit(\n",
    "                                    \"pattern_search_three(text, pattern)\",\n",
    "                                    \"from __main__ import pattern_search_three;\"\n",
    "                                    \"text='TGATTCCGGCGGGCGTGGAGAAGCGAGATTCATTCAAGCCGGGAGGCGTGGCGTGGCGTGGCGTGCGGATTCAAGCCGGCGGG';\"\n",
    "                                    \"pattern='TTCCGG' \", number =100000)))\n",
    "\n",
    "print (\"pattern_search_four:{}\".format(timeit(\n",
    "                                    \"pattern_search_four(text, pattern)\",\n",
    "                                    \"from __main__ import pattern_search_four;\"\n",
    "                                    \"text='TGATTCCGGCGGGCGTGGAGAAGCGAGATTCATTCAAGCCGGGAGGCGTGGCGTGGCGTGGCGTGCGGATTCAAGCCGGCGGG';\"\n",
    "                                    \"pattern='TTCCGG' \", number =100000)))"
   ]
  },
  {
   "cell_type": "markdown",
   "metadata": {},
   "source": [
    "## Oligo Search Locations:\n",
    "\n",
    "**In the future I may want to incorporate the location of the oligo within the reference. I found regular expressions to be the best way to do this.**"
   ]
  },
  {
   "cell_type": "code",
   "execution_count": 18,
   "metadata": {},
   "outputs": [],
   "source": [
    "import re"
   ]
  },
  {
   "cell_type": "code",
   "execution_count": 19,
   "metadata": {},
   "outputs": [
    {
     "data": {
      "text/plain": [
       "[31, 86, 160]"
      ]
     },
     "execution_count": 19,
     "metadata": {},
     "output_type": "execute_result"
    }
   ],
   "source": [
    "def pattern_find_one(text, pattern):\n",
    "    list = []\n",
    "    for i, nucleotide in enumerate(text):\n",
    "        if text[i:i+len(pattern)] == pattern:\n",
    "            list.append(i)\n",
    "    return (list)\n",
    "pattern_find_one(reference, oligo)"
   ]
  },
  {
   "cell_type": "code",
   "execution_count": 20,
   "metadata": {},
   "outputs": [
    {
     "data": {
      "text/plain": [
       "'31 86 160'"
      ]
     },
     "execution_count": 20,
     "metadata": {},
     "output_type": "execute_result"
    }
   ],
   "source": [
    "def pattern_find_two(text,pattern):\n",
    "    matches = re.finditer('(?={0})'.format(pattern),text)\n",
    "    positions = [str(match.start()) for match in matches]\n",
    "    result = ' '.join(positions)\n",
    "    return(result)\n",
    "pattern_find_two(reference, oligo)"
   ]
  },
  {
   "cell_type": "code",
   "execution_count": 21,
   "metadata": {},
   "outputs": [
    {
     "data": {
      "text/plain": [
       "[31, 86, 160]"
      ]
     },
     "execution_count": 21,
     "metadata": {},
     "output_type": "execute_result"
    }
   ],
   "source": [
    "def pattern_find_three(text,pattern):\n",
    "    results = []\n",
    "    regex_pattern = re.compile('(?={0})'.format(pattern))\n",
    "    matches = regex_pattern.finditer(text)\n",
    "    for match in matches:\n",
    "        results.append(match.start())\n",
    "    return(results)\n",
    "pattern_find_three(reference, oligo)"
   ]
  },
  {
   "cell_type": "code",
   "execution_count": 22,
   "metadata": {},
   "outputs": [
    {
     "name": "stdout",
     "output_type": "stream",
     "text": [
      "pattern_find_one:5.226146290000088\n",
      "pattern_find_two:1.4456950449998658\n",
      "pattern_find_three:1.2177825789999588\n"
     ]
    }
   ],
   "source": [
    "print (\"pattern_find_one:{}\".format(timeit(\n",
    "                                    \"pattern_find_one(text, pattern)\",\n",
    "                                    \"from __main__ import pattern_find_one;\"\n",
    "                                    \"text='TGATTCCGGCGGGCGTGGAGAAGCGAGATTCATTCAAGCCGGGAGGCGTGGCGTGGCGTGGCGTGCGGATTCAAGCCGGCGGG';\"\n",
    "                                    \"pattern='TTCCGG' \", number =100000)))\n",
    "\n",
    "print (\"pattern_find_two:{}\".format(timeit(\n",
    "                                    \"pattern_find_two(text, pattern)\",\n",
    "                                    \"from __main__ import pattern_find_two;\"\n",
    "                                    \"text='TGATTCCGGCGGGCGTGGAGAAGCGAGATTCATTCAAGCCGGGAGGCGTGGCGTGGCGTGGCGTGCGGATTCAAGCCGGCGGG';\"\n",
    "                                    \"pattern='TTCCGG' \", number =100000)))\n",
    "\n",
    "print (\"pattern_find_three:{}\".format(timeit(\n",
    "                                    \"pattern_find_three(text, pattern)\",\n",
    "                                    \"from __main__ import pattern_find_three;\"\n",
    "                                    \"text='TGATTCCGGCGGGCGTGGAGAAGCGAGATTCATTCAAGCCGGGAGGCGTGGCGTGGCGTGGCGTGCGGATTCAAGCCGGCGGG';\"\n",
    "                                    \"pattern='TTCCGG' \", number =100000)))"
   ]
  },
  {
   "cell_type": "code",
   "execution_count": null,
   "metadata": {},
   "outputs": [],
   "source": [
    ""
   ]
  }
 ],
 "metadata": {
  "kernelspec": {
   "display_name": "Python 3",
   "language": "python",
   "name": "python3"
  },
  "language_info": {
   "codemirror_mode": {
    "name": "ipython",
    "version": 3.0
   },
   "file_extension": ".py",
   "mimetype": "text/x-python",
   "name": "python",
   "nbconvert_exporter": "python",
   "pygments_lexer": "ipython3",
   "version": "3.5.1"
  }
 },
 "nbformat": 4,
 "nbformat_minor": 0
}